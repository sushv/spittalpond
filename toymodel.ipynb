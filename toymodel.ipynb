{
 "worksheets": [
  {
   "cells": [
    {
     "cell_type": "markdown",
     "metadata": {},
     "source": [
      "# Toy Example"
     ]
    },
    {
     "cell_type": "markdown",
     "metadata": {},
     "source": [
      "## General Setup\n",
      "\n",
      "***************************************************"
     ]
    },
    {
     "cell_type": "code",
     "metadata": {},
     "outputs": [],
     "input": [
      "%load_ext autoreload\n",
      "%autoreload 2"
     ],
     "language": "python"
    },
    {
     "cell_type": "code",
     "metadata": {},
     "outputs": [],
     "input": [
      "import spittalpond\n",
      "import time\n",
      "import json\n",
      "import logging\n",
      "from IPython.display import HTML"
     ],
     "language": "python"
    },
    {
     "cell_type": "markdown",
     "metadata": {},
     "source": [
      "#### Setting up the basic settings needed"
     ]
    },
    {
     "cell_type": "code",
     "metadata": {},
     "outputs": [],
     "input": [
      "pub_user = \"root\"\n",
      "do_timestamps = True\n",
      "log_file = \"C:/Users/bsimmons/repos/spittalpond/log.log\"\n",
      "# Create new spittal instance.\n",
      "spittal = spittalpond.SpittalPond(\n",
      "    base_url=\"http://127.0.0.1:8000\",\n",
      "    pub_user=pub_user,\n",
      "    log_file=log_file,\n",
      "    log_level=logging.DEBUG\n",
      ")"
     ],
     "language": "python"
    },
    {
     "cell_type": "markdown",
     "metadata": {},
     "source": [
      "## Setup Model\n",
      "\n",
      "********************************************************************"
     ]
    },
    {
     "cell_type": "markdown",
     "metadata": {},
     "source": [
      "#### Log in"
     ]
    },
    {
     "cell_type": "code",
     "metadata": {},
     "outputs": [
      {
       "output_type": "stream",
       "stream": "stdout",
       "text": [
        "You are logged into Mid-tier\n"
       ]
      }
     ],
     "input": [
      "# Log into Django mid-tier (Have to log in for each seperate instance.)\n",
      "spittal.model.do_login('password')"
     ],
     "language": "python",
     "prompt_number": 4
    },
    {
     "cell_type": "markdown",
     "metadata": {},
     "source": [
      "#### Upload Model Files"
     ]
    },
    {
     "cell_type": "code",
     "metadata": {},
     "outputs": [
      {
       "output_type": "stream",
       "stream": "stdout",
       "text": [
        "Uploaded directory\n"
       ]
      }
     ],
     "input": [
      "upload_directory = \"C:/Workshop20150128/OASISVM/upload/spit/model/\"\n",
      "spittal.model.upload_directory(upload_directory, do_timestamps)"
     ],
     "language": "python",
     "prompt_number": 5
    },
    {
     "cell_type": "markdown",
     "metadata": {},
     "source": [
      "#### Create Model"
     ]
    },
    {
     "cell_type": "code",
     "metadata": {},
     "outputs": [
      {
       "output_type": "stream",
       "stream": "stdout",
       "text": [
        "Finished creating model strutures.\n"
       ]
      }
     ],
     "input": [
      "spittal.model.create_model_structures()"
     ],
     "language": "python",
     "prompt_number": 6
    },
    {
     "cell_type": "markdown",
     "metadata": {},
     "source": [
      "#### Load Model"
     ]
    },
    {
     "cell_type": "code",
     "metadata": {},
     "outputs": [
      {
       "output_type": "stream",
       "stream": "stdout",
       "text": [
        "Loaded model\n"
       ]
      }
     ],
     "input": [
      "spittal.model.load_models()"
     ],
     "language": "python",
     "prompt_number": 7
    },
    {
     "cell_type": "markdown",
     "metadata": {},
     "source": [
      "## Setup Exposures\n",
      "\n",
      "*************************************************"
     ]
    },
    {
     "cell_type": "markdown",
     "metadata": {},
     "source": [
      "#### Log in"
     ]
    },
    {
     "cell_type": "code",
     "metadata": {},
     "outputs": [
      {
       "output_type": "stream",
       "stream": "stdout",
       "text": [
        "You are logged into Mid-tier\n"
       ]
      }
     ],
     "input": [
      "# Log into Django mid-tier (Have to log in for each seperate instance.)\n",
      "spittal.exposure.do_login('password')"
     ],
     "language": "python",
     "prompt_number": 8
    },
    {
     "cell_type": "markdown",
     "metadata": {},
     "source": [
      "#### Upload Exposure Files"
     ]
    },
    {
     "cell_type": "code",
     "metadata": {},
     "outputs": [
      {
       "output_type": "stream",
       "stream": "stdout",
       "text": [
        "Uploaded directory\n"
       ]
      }
     ],
     "input": [
      "upload_directory = \"C:/Workshop20150128/OASISVM/upload/spit/exposure/\"\n",
      "spittal.exposure.upload_directory(upload_directory, do_timestamps)"
     ],
     "language": "python",
     "prompt_number": 9
    },
    {
     "cell_type": "markdown",
     "metadata": {},
     "source": [
      "#### Create Exposure Database Structures"
     ]
    },
    {
     "cell_type": "code",
     "metadata": {},
     "outputs": [
      {
       "output_type": "stream",
       "stream": "stdout",
       "text": [
        "Finished creating exposure structures.\n"
       ]
      }
     ],
     "input": [
      "model_data_dict = spittal.model.data_dict\n",
      "spittal.exposure.create_exposure_structure(model_data_dict)"
     ],
     "language": "python",
     "prompt_number": 10
    },
    {
     "cell_type": "markdown",
     "metadata": {},
     "source": [
      "#### Load Exposure to Job Queue"
     ]
    },
    {
     "cell_type": "code",
     "metadata": {},
     "outputs": [
      {
       "output_type": "stream",
       "stream": "stdout",
       "text": [
        "Loaded model\n"
       ]
      }
     ],
     "input": [
      "spittal.exposure.load_models()"
     ],
     "language": "python",
     "prompt_number": 11
    },
    {
     "cell_type": "markdown",
     "metadata": {},
     "source": [
      "#### Create Benchmark"
     ]
    },
    {
     "cell_type": "code",
     "metadata": {},
     "outputs": [
      {
       "output_type": "pyout",
       "prompt_number": 12,
       "text": [
        "'{\"status\": \"done\", \"taskId\": \"5\", \"success\": true, \"JobId\": \"0\"}'"
       ],
       "metadata": {}
      }
     ],
     "input": [
      "resp = spittal.exposure.create_benchmark()\n",
      "benchmark_id = json.loads(resp.content)['taskId']\n",
      "resp.content"
     ],
     "language": "python",
     "prompt_number": 12
    },
    {
     "cell_type": "markdown",
     "metadata": {},
     "source": [
      "#### Run Benchmark"
     ]
    },
    {
     "cell_type": "code",
     "metadata": {},
     "outputs": [
      {
       "output_type": "pyout",
       "prompt_number": 13,
       "text": [
        "'{\"status\": \"WIP\", \"progress\": \"Started\", \"detail\": \"OK\", \"success\": true, \"JobId\": 55}'"
       ],
       "metadata": {}
      }
     ],
     "input": [
      "resp = spittal.exposure.do_task(\"Benchmark\", benchmark_id, 1)\n",
      "last_job_id = json.loads(resp.content)['JobId']\n",
      "resp.content"
     ],
     "language": "python",
     "prompt_number": 13
    },
    {
     "cell_type": "markdown",
     "metadata": {},
     "source": [
      "#### Check the status of latest job"
     ]
    },
    {
     "cell_type": "code",
     "metadata": {},
     "outputs": [
      {
       "output_type": "pyout",
       "prompt_number": 16,
       "text": [
        "'{\"status\": \"done\", \"RemainingChunks\": \"0\", \"CompletedSteps\": \"\", \"JobId\": 55, \"Timeout\": false, \"progress\": \"FINISHED\"}'"
       ],
       "metadata": {}
      }
     ],
     "input": [
      "resp = spittal.exposure.check_status(last_job_id, 1)\n",
      "resp.content"
     ],
     "language": "python",
     "prompt_number": 16
    },
    {
     "cell_type": "markdown",
     "metadata": {},
     "source": [
      "## Run GUL"
     ]
    },
    {
     "cell_type": "markdown",
     "metadata": {},
     "source": [
      "#### Log in"
     ]
    },
    {
     "cell_type": "code",
     "metadata": {},
     "outputs": [
      {
       "output_type": "stream",
       "stream": "stdout",
       "text": [
        "You are logged into Mid-tier\n"
       ]
      }
     ],
     "input": [
      "# Log into Django mid-tier (Have to log in for each seperate instance.)\n",
      "spittal.run.do_login('password')"
     ],
     "language": "python",
     "prompt_number": 17
    },
    {
     "cell_type": "markdown",
     "metadata": {},
     "source": [
      "#### Setup some varaiabels"
     ]
    },
    {
     "cell_type": "code",
     "metadata": {},
     "outputs": [],
     "input": [
      "gul_name = \"spittalGUL\"\n",
      "exposure_instance = spittal.exposure.data_dict['exposures_instance']['taskId']"
     ],
     "language": "python",
     "prompt_number": 18
    },
    {
     "cell_type": "markdown",
     "metadata": {},
     "source": [
      "#### Automatically create the random numbers."
     ]
    },
    {
     "cell_type": "code",
     "metadata": {},
     "outputs": [],
     "input": [
      "spittal.run.auto_create_random_numbers()"
     ],
     "language": "python",
     "prompt_number": 19
    },
    {
     "cell_type": "markdown",
     "metadata": {},
     "source": [
      "#### Create the ground up loss data."
     ]
    },
    {
     "cell_type": "code",
     "metadata": {},
     "outputs": [
      {
       "output_type": "stream",
       "stream": "stdout",
       "text": [
        "Created GUL data\n"
       ]
      }
     ],
     "input": [
      "spittal.run.create_gul_data(gul_name, benchmark_id, exposure_instance)"
     ],
     "language": "python",
     "prompt_number": 20
    },
    {
     "cell_type": "code",
     "metadata": {},
     "outputs": [
      {
       "output_type": "stream",
       "stream": "stdout",
       "text": [
        "43777\n"
       ]
      }
     ],
     "input": [
      "resp = spittal.run.get_gul_data(gul_name, \"my_data.csv\", 3)\n",
      "print len(resp.content)"
     ],
     "language": "python",
     "prompt_number": 21
    },
    {
     "cell_type": "markdown",
     "metadata": {},
     "source": [
      "## Quick Data Analysis"
     ]
    },
    {
     "cell_type": "code",
     "metadata": {},
     "outputs": [],
     "input": [
      "import pandas\n",
      "import seaborn"
     ],
     "language": "python",
     "prompt_number": 18
    },
    {
     "cell_type": "code",
     "metadata": {},
     "outputs": [
      {
       "output_type": "pyout",
       "prompt_number": 2,
       "text": [
        "Index([u'EVENT_ID', u' ITEM_ID', u' IDX', u' GUL'], dtype='object')"
       ],
       "metadata": {}
      }
     ],
     "input": [
      "df = pandas.read_csv(\"/var/www/oasis/Pub_GUL_2.csv\")\n",
      "df.columns"
     ],
     "language": "python",
     "prompt_number": 2
    },
    {
     "cell_type": "code",
     "metadata": {},
     "outputs": [
      {
       "output_type": "pyout",
       "html": [
        "<div style=\"max-height:1000px;max-width:1500px;overflow:auto;\">\n",
        "<table border=\"1\" class=\"dataframe\">\n",
        "  <thead>\n",
        "    <tr style=\"text-align: right;\">\n",
        "      <th></th>\n",
        "      <th>EVENT_ID</th>\n",
        "      <th> ITEM_ID</th>\n",
        "      <th> IDX</th>\n",
        "      <th> GUL</th>\n",
        "    </tr>\n",
        "  </thead>\n",
        "  <tbody>\n",
        "    <tr>\n",
        "      <th>count</th>\n",
        "      <td> 214506.000000</td>\n",
        "      <td> 214506.000000</td>\n",
        "      <td> 214506.000000</td>\n",
        "      <td> 214506.000000</td>\n",
        "    </tr>\n",
        "    <tr>\n",
        "      <th>mean</th>\n",
        "      <td>  92358.865631</td>\n",
        "      <td>     53.453540</td>\n",
        "      <td>      5.454206</td>\n",
        "      <td>    917.473116</td>\n",
        "    </tr>\n",
        "    <tr>\n",
        "      <th>std</th>\n",
        "      <td> 106085.059567</td>\n",
        "      <td>     21.608356</td>\n",
        "      <td>      2.903639</td>\n",
        "      <td>   4166.455811</td>\n",
        "    </tr>\n",
        "    <tr>\n",
        "      <th>min</th>\n",
        "      <td>     26.000000</td>\n",
        "      <td>      1.000000</td>\n",
        "      <td>      0.000000</td>\n",
        "      <td>      0.000000</td>\n",
        "    </tr>\n",
        "    <tr>\n",
        "      <th>25%</th>\n",
        "      <td>    198.000000</td>\n",
        "      <td>     46.000000</td>\n",
        "      <td>      3.000000</td>\n",
        "      <td>      0.000000</td>\n",
        "    </tr>\n",
        "    <tr>\n",
        "      <th>50%</th>\n",
        "      <td> 100027.000000</td>\n",
        "      <td>     56.000000</td>\n",
        "      <td>      5.000000</td>\n",
        "      <td>      0.000000</td>\n",
        "    </tr>\n",
        "    <tr>\n",
        "      <th>75%</th>\n",
        "      <td> 200122.000000</td>\n",
        "      <td>     70.000000</td>\n",
        "      <td>      8.000000</td>\n",
        "      <td>      0.000000</td>\n",
        "    </tr>\n",
        "    <tr>\n",
        "      <th>max</th>\n",
        "      <td> 300055.000000</td>\n",
        "      <td>     89.000000</td>\n",
        "      <td>     10.000000</td>\n",
        "      <td> 213394.784915</td>\n",
        "    </tr>\n",
        "  </tbody>\n",
        "</table>\n",
        "<p>8 rows × 4 columns</p>\n",
        "</div>"
       ],
       "text": [
        "            EVENT_ID        ITEM_ID            IDX            GUL\n",
        "count  214506.000000  214506.000000  214506.000000  214506.000000\n",
        "mean    92358.865631      53.453540       5.454206     917.473116\n",
        "std    106085.059567      21.608356       2.903639    4166.455811\n",
        "min        26.000000       1.000000       0.000000       0.000000\n",
        "25%       198.000000      46.000000       3.000000       0.000000\n",
        "50%    100027.000000      56.000000       5.000000       0.000000\n",
        "75%    200122.000000      70.000000       8.000000       0.000000\n",
        "max    300055.000000      89.000000      10.000000  213394.784915\n",
        "\n",
        "[8 rows x 4 columns]"
       ],
       "metadata": {}
      }
     ],
     "input": [
      "df.describe()"
     ],
     "language": "python",
     "prompt_number": 4
    },
    {
     "cell_type": "code",
     "metadata": {},
     "outputs": [],
     "input": [
      "loss = df.sort(' GUL')"
     ],
     "language": "python",
     "prompt_number": 6
    },
    {
     "cell_type": "code",
     "metadata": {},
     "outputs": [
      {
       "output_type": "pyout",
       "prompt_number": 10,
       "text": [
        "<matplotlib.axes.AxesSubplot at 0x7fe729d69050>"
       ],
       "metadata": {}
      },
      {
       "output_type": "display_data",
       "png": "[encoded data removed]",
       "text": [
        "<matplotlib.figure.Figure at 0x7fe729d73290>"
       ],
       "metadata": {}
      }
     ],
     "input": [
      "loss[' GUL'].plot(use_index=False)"
     ],
     "language": "python",
     "prompt_number": 10
    },
    {
     "cell_type": "code",
     "metadata": {},
     "outputs": [],
     "input": [
      "big = loss[loss[' GUL']>10]"
     ],
     "language": "python",
     "prompt_number": 14
    },
    {
     "cell_type": "code",
     "metadata": {},
     "outputs": [
      {
       "output_type": "pyout",
       "html": [
        "<div style=\"max-height:1000px;max-width:1500px;overflow:auto;\">\n",
        "<table border=\"1\" class=\"dataframe\">\n",
        "  <thead>\n",
        "    <tr style=\"text-align: right;\">\n",
        "      <th></th>\n",
        "      <th>EVENT_ID</th>\n",
        "      <th> ITEM_ID</th>\n",
        "      <th> IDX</th>\n",
        "      <th> GUL</th>\n",
        "    </tr>\n",
        "  </thead>\n",
        "  <tbody>\n",
        "    <tr>\n",
        "      <th>count</th>\n",
        "      <td>  21284.000000</td>\n",
        "      <td> 21284.000000</td>\n",
        "      <td> 21284.000000</td>\n",
        "      <td>  21284.000000</td>\n",
        "    </tr>\n",
        "    <tr>\n",
        "      <th>mean</th>\n",
        "      <td>  91210.688498</td>\n",
        "      <td>    47.817422</td>\n",
        "      <td>     5.172430</td>\n",
        "      <td>   9246.522198</td>\n",
        "    </tr>\n",
        "    <tr>\n",
        "      <th>std</th>\n",
        "      <td> 104880.821653</td>\n",
        "      <td>    22.865759</td>\n",
        "      <td>     3.104722</td>\n",
        "      <td>   9896.535262</td>\n",
        "    </tr>\n",
        "    <tr>\n",
        "      <th>min</th>\n",
        "      <td>     26.000000</td>\n",
        "      <td>     2.000000</td>\n",
        "      <td>     0.000000</td>\n",
        "      <td>     10.335350</td>\n",
        "    </tr>\n",
        "    <tr>\n",
        "      <th>25%</th>\n",
        "      <td>    165.000000</td>\n",
        "      <td>    28.000000</td>\n",
        "      <td>     3.000000</td>\n",
        "      <td>   3800.177410</td>\n",
        "    </tr>\n",
        "    <tr>\n",
        "      <th>50%</th>\n",
        "      <td> 100050.000000</td>\n",
        "      <td>    50.000000</td>\n",
        "      <td>     5.000000</td>\n",
        "      <td>   5866.687423</td>\n",
        "    </tr>\n",
        "    <tr>\n",
        "      <th>75%</th>\n",
        "      <td> 200122.000000</td>\n",
        "      <td>    67.000000</td>\n",
        "      <td>     8.000000</td>\n",
        "      <td>  11124.476373</td>\n",
        "    </tr>\n",
        "    <tr>\n",
        "      <th>max</th>\n",
        "      <td> 300055.000000</td>\n",
        "      <td>    87.000000</td>\n",
        "      <td>    10.000000</td>\n",
        "      <td> 213394.784915</td>\n",
        "    </tr>\n",
        "  </tbody>\n",
        "</table>\n",
        "<p>8 rows × 4 columns</p>\n",
        "</div>"
       ],
       "text": [
        "            EVENT_ID       ITEM_ID           IDX            GUL\n",
        "count   21284.000000  21284.000000  21284.000000   21284.000000\n",
        "mean    91210.688498     47.817422      5.172430    9246.522198\n",
        "std    104880.821653     22.865759      3.104722    9896.535262\n",
        "min        26.000000      2.000000      0.000000      10.335350\n",
        "25%       165.000000     28.000000      3.000000    3800.177410\n",
        "50%    100050.000000     50.000000      5.000000    5866.687423\n",
        "75%    200122.000000     67.000000      8.000000   11124.476373\n",
        "max    300055.000000     87.000000     10.000000  213394.784915\n",
        "\n",
        "[8 rows x 4 columns]"
       ],
       "metadata": {}
      }
     ],
     "input": [
      "big.describe()"
     ],
     "language": "python",
     "prompt_number": 20
    },
    {
     "cell_type": "code",
     "metadata": {},
     "outputs": [
      {
       "output_type": "pyout",
       "prompt_number": 21,
       "text": [
        "<matplotlib.axes.AxesSubplot at 0x7fe71ecc7990>"
       ],
       "metadata": {}
      },
      {
       "output_type": "display_data",
       "png": "[encoded data removed]",
       "text": [
        "<matplotlib.figure.Figure at 0x7fe71ec39f90>"
       ],
       "metadata": {}
      }
     ],
     "input": [
      "big[' GUL'].plot(use_index=False)"
     ],
     "language": "python",
     "prompt_number": 21
    },
    {
     "cell_type": "code",
     "metadata": {},
     "outputs": [],
     "input": [
      ""
     ],
     "language": "python",
     "prompt_number": 13
    },
    {
     "cell_type": "code",
     "metadata": {},
     "outputs": [],
     "input": [
      ""
     ],
     "language": "python"
    }
   ]
  }
 ],
 "cells": [],
 "metadata": {
  "name": "",
  "signature": "sha256:9f4414969b3a44835805b76250b0912f2da46d2fe668e830370215bb0bc53ddc"
 },
 "nbformat": 3,
 "nbformat_minor": 0
}